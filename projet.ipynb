{
 "cells": [
  {
   "attachments": {},
   "cell_type": "markdown",
   "metadata": {},
   "source": [
    "# Projet - Atelier Data Science"
   ]
  },
  {
   "attachments": {},
   "cell_type": "markdown",
   "metadata": {},
   "source": [
    "## Introduction"
   ]
  },
  {
   "attachments": {},
   "cell_type": "markdown",
   "metadata": {},
   "source": [
    "Lorem Ipsum is simply dummy text of the printing and typesetting industry. Lorem Ipsum has been the industry's standard dummy text ever since the 1500s, when an unknown printer took a galley of type and scrambled it to make a type specimen book. It has survived not only five centuries, but also the leap into electronic typesetting, remaining essentially unchanged. It was popularised in the 1960s with the release of Letraset sheets containing Lorem Ipsum passages, and more recently with desktop publishing software like Aldus PageMaker including versions of Lorem Ipsum."
   ]
  },
  {
   "attachments": {},
   "cell_type": "markdown",
   "metadata": {},
   "source": [
    "### Importation des librairies "
   ]
  },
  {
   "cell_type": "code",
   "execution_count": 1,
   "metadata": {},
   "outputs": [],
   "source": [
    "import pandas as pd\n",
    "import matplotlib.pyplot as plt\n",
    "import seaborn as sns\n",
    "import numpy as np"
   ]
  },
  {
   "attachments": {},
   "cell_type": "markdown",
   "metadata": {},
   "source": [
    "### Importation des données"
   ]
  },
  {
   "cell_type": "code",
   "execution_count": 6,
   "metadata": {},
   "outputs": [
    {
     "name": "stderr",
     "output_type": "stream",
     "text": [
      "/var/folders/bk/7b_bwg6x6gjc8hq_4skf_9c00000gn/T/ipykernel_41443/2243435122.py:1: DtypeWarning: Columns (18,23,24,26,28,41) have mixed types. Specify dtype option on import or set low_memory=False.\n",
      "  df = pd.read_csv(\"./valeursfoncieres-2022.txt\", sep=\"|\", decimal=\",\")\n"
     ]
    },
    {
     "name": "stdout",
     "output_type": "stream",
     "text": [
      "         Identifiant de document  Reference document  1 Articles CGI   \n",
      "0                            NaN                 NaN             NaN  \\\n",
      "1                            NaN                 NaN             NaN   \n",
      "2                            NaN                 NaN             NaN   \n",
      "3                            NaN                 NaN             NaN   \n",
      "4                            NaN                 NaN             NaN   \n",
      "...                          ...                 ...             ...   \n",
      "3803880                      NaN                 NaN             NaN   \n",
      "3803881                      NaN                 NaN             NaN   \n",
      "3803882                      NaN                 NaN             NaN   \n",
      "3803883                      NaN                 NaN             NaN   \n",
      "3803884                      NaN                 NaN             NaN   \n",
      "\n",
      "         2 Articles CGI  3 Articles CGI  4 Articles CGI  5 Articles CGI   \n",
      "0                   NaN             NaN             NaN             NaN  \\\n",
      "1                   NaN             NaN             NaN             NaN   \n",
      "2                   NaN             NaN             NaN             NaN   \n",
      "3                   NaN             NaN             NaN             NaN   \n",
      "4                   NaN             NaN             NaN             NaN   \n",
      "...                 ...             ...             ...             ...   \n",
      "3803880             NaN             NaN             NaN             NaN   \n",
      "3803881             NaN             NaN             NaN             NaN   \n",
      "3803882             NaN             NaN             NaN             NaN   \n",
      "3803883             NaN             NaN             NaN             NaN   \n",
      "3803884             NaN             NaN             NaN             NaN   \n",
      "\n",
      "         No disposition Date mutation Nature mutation  ...   \n",
      "0                     1    03/01/2022           Vente  ...  \\\n",
      "1                     1    03/01/2022           Vente  ...   \n",
      "2                     1    03/01/2022           Vente  ...   \n",
      "3                     1    03/01/2022           Vente  ...   \n",
      "4                     1    04/01/2022           Vente  ...   \n",
      "...                 ...           ...             ...  ...   \n",
      "3803880               1    30/12/2022           Vente  ...   \n",
      "3803881               1    19/12/2022           Vente  ...   \n",
      "3803882               1    19/12/2022           Vente  ...   \n",
      "3803883               1    30/12/2022           Vente  ...   \n",
      "3803884               1    21/11/2022           Vente  ...   \n",
      "\n",
      "         Surface Carrez du 5eme lot  Nombre de lots Code type local   \n",
      "0                               NaN               1             2.0  \\\n",
      "1                               NaN               0             NaN   \n",
      "2                               NaN               0             NaN   \n",
      "3                               NaN               1             2.0   \n",
      "4                               NaN               0             NaN   \n",
      "...                             ...             ...             ...   \n",
      "3803880                         NaN               1             4.0   \n",
      "3803881                         NaN               2             3.0   \n",
      "3803882                         NaN               2             2.0   \n",
      "3803883                         NaN               1             3.0   \n",
      "3803884                         NaN               1             3.0   \n",
      "\n",
      "                                       Type local Identifiant local   \n",
      "0                                     Appartement               NaN  \\\n",
      "1                                             NaN               NaN   \n",
      "2                                             NaN               NaN   \n",
      "3                                     Appartement               NaN   \n",
      "4                                             NaN               NaN   \n",
      "...                                           ...               ...   \n",
      "3803880  Local industriel. commercial ou assimilé               NaN   \n",
      "3803881                                Dépendance               NaN   \n",
      "3803882                               Appartement               NaN   \n",
      "3803883                                Dépendance               NaN   \n",
      "3803884                                Dépendance               NaN   \n",
      "\n",
      "        Surface reelle bati  Nombre pieces principales Nature culture   \n",
      "0                      24.0                        1.0            NaN  \\\n",
      "1                       NaN                        NaN              S   \n",
      "2                       NaN                        NaN              S   \n",
      "3                     140.0                        3.0            NaN   \n",
      "4                       NaN                        NaN              T   \n",
      "...                     ...                        ...            ...   \n",
      "3803880               327.0                        0.0            NaN   \n",
      "3803881                 0.0                        0.0            NaN   \n",
      "3803882                40.0                        3.0            NaN   \n",
      "3803883                 0.0                        0.0            NaN   \n",
      "3803884                 0.0                        0.0            NaN   \n",
      "\n",
      "        Nature culture speciale  Surface terrain  \n",
      "0                           NaN              NaN  \n",
      "1                           NaN             84.0  \n",
      "2                           NaN             88.0  \n",
      "3                           NaN              NaN  \n",
      "4                           NaN            510.0  \n",
      "...                         ...              ...  \n",
      "3803880                     NaN              NaN  \n",
      "3803881                     NaN              NaN  \n",
      "3803882                     NaN              NaN  \n",
      "3803883                     NaN              NaN  \n",
      "3803884                     NaN              NaN  \n",
      "\n",
      "[3803885 rows x 43 columns]\n"
     ]
    }
   ],
   "source": [
    "df = pd.read_csv(\"./valeursfoncieres-2022.txt\", sep=\"|\", decimal=\",\")\n",
    "print(df)"
   ]
  },
  {
   "cell_type": "code",
   "execution_count": 7,
   "metadata": {},
   "outputs": [
    {
     "name": "stdout",
     "output_type": "stream",
     "text": [
      "<class 'pandas.core.frame.DataFrame'>\n",
      "RangeIndex: 3803885 entries, 0 to 3803884\n",
      "Data columns (total 43 columns):\n",
      " #   Column                      Dtype  \n",
      "---  ------                      -----  \n",
      " 0   Identifiant de document     float64\n",
      " 1   Reference document          float64\n",
      " 2   1 Articles CGI              float64\n",
      " 3   2 Articles CGI              float64\n",
      " 4   3 Articles CGI              float64\n",
      " 5   4 Articles CGI              float64\n",
      " 6   5 Articles CGI              float64\n",
      " 7   No disposition              int64  \n",
      " 8   Date mutation               object \n",
      " 9   Nature mutation             object \n",
      " 10  Valeur fonciere             float64\n",
      " 11  No voie                     float64\n",
      " 12  B/T/Q                       object \n",
      " 13  Type de voie                object \n",
      " 14  Code voie                   object \n",
      " 15  Voie                        object \n",
      " 16  Code postal                 float64\n",
      " 17  Commune                     object \n",
      " 18  Code departement            object \n",
      " 19  Code commune                int64  \n",
      " 20  Prefixe de section          float64\n",
      " 21  Section                     object \n",
      " 22  No plan                     int64  \n",
      " 23  No Volume                   object \n",
      " 24  1er lot                     object \n",
      " 25  Surface Carrez du 1er lot   float64\n",
      " 26  2eme lot                    object \n",
      " 27  Surface Carrez du 2eme lot  float64\n",
      " 28  3eme lot                    object \n",
      " 29  Surface Carrez du 3eme lot  float64\n",
      " 30  4eme lot                    float64\n",
      " 31  Surface Carrez du 4eme lot  float64\n",
      " 32  5eme lot                    float64\n",
      " 33  Surface Carrez du 5eme lot  float64\n",
      " 34  Nombre de lots              int64  \n",
      " 35  Code type local             float64\n",
      " 36  Type local                  object \n",
      " 37  Identifiant local           float64\n",
      " 38  Surface reelle bati         float64\n",
      " 39  Nombre pieces principales   float64\n",
      " 40  Nature culture              object \n",
      " 41  Nature culture speciale     object \n",
      " 42  Surface terrain             float64\n",
      "dtypes: float64(23), int64(4), object(16)\n",
      "memory usage: 1.2+ GB\n",
      "None\n"
     ]
    }
   ],
   "source": [
    "print(df.info())"
   ]
  }
 ],
 "metadata": {
  "kernelspec": {
   "display_name": "Python 3",
   "language": "python",
   "name": "python3"
  },
  "language_info": {
   "codemirror_mode": {
    "name": "ipython",
    "version": 3
   },
   "file_extension": ".py",
   "mimetype": "text/x-python",
   "name": "python",
   "nbconvert_exporter": "python",
   "pygments_lexer": "ipython3",
   "version": "3.11.3"
  },
  "orig_nbformat": 4
 },
 "nbformat": 4,
 "nbformat_minor": 2
}
